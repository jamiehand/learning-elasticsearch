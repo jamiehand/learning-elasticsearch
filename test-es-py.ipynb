{
 "cells": [
  {
   "cell_type": "code",
   "execution_count": 8,
   "metadata": {
    "collapsed": false
   },
   "outputs": [
    {
     "data": {
      "text/plain": [
       "{'acknowledged': True}"
      ]
     },
     "execution_count": 8,
     "metadata": {},
     "output_type": "execute_result"
    }
   ],
   "source": [
    "from datetime import datetime\n",
    "from elasticsearch import Elasticsearch\n",
    "\n",
    "es = Elasticsearch()\n",
    "\n",
    "es.indices.create(index='my-index2', ignore=400)\n",
    "\n"
   ]
  },
  {
   "cell_type": "code",
   "execution_count": 9,
   "metadata": {
    "collapsed": true
   },
   "outputs": [
    {
     "data": {
      "text/plain": [
       "{'_id': '42',\n",
       " '_index': 'my-index2',\n",
       " '_type': 'test-type',\n",
       " '_version': 1,\n",
       " 'created': True}"
      ]
     },
     "execution_count": 9,
     "metadata": {},
     "output_type": "execute_result"
    }
   ],
   "source": [
    "es.index(index=\"my-index2\", doc_type=\"test-type\", id=42,\n",
    "    body={\"any\": \"data\", \"timestamp\": datetime.now()})\n",
    "\n"
   ]
  },
  {
   "cell_type": "code",
   "execution_count": 10,
   "metadata": {
    "collapsed": false
   },
   "outputs": [
    {
     "data": {
      "text/plain": [
       "{'any': 'data', 'timestamp': '2015-10-08T18:18:29.871411'}"
      ]
     },
     "execution_count": 10,
     "metadata": {},
     "output_type": "execute_result"
    }
   ],
   "source": [
    "es.get(index=\"my-index\", doc_type=\"test-type\", \n",
    "    id=42)['_source']\n"
   ]
  },
  {
   "cell_type": "code",
   "execution_count": 17,
   "metadata": {
    "collapsed": false
   },
   "outputs": [
    {
     "name": "stdout",
     "output_type": "stream",
     "text": [
      "b'{\\n  \"status\" : 200,\\n  \"name\" : \"jamie_01_test\",\\n  \"cluster_name\" : \"EStest1_jamie-test\",\\n  \"version\" : {\\n    \"number\" : \"1.7.2\",\\n    \"build_hash\" : \"e43676b1385b8125d647f593f7202acbd816e8ec\",\\n    \"build_timestamp\" : \"2015-09-14T09:49:53Z\",\\n    \"build_snapshot\" : false,\\n    \"lucene_version\" : \"4.10.4\"\\n  },\\n  \"tagline\" : \"You Know, for Search\"\\n}\\n'\n"
     ]
    }
   ],
   "source": [
    "import requests\n",
    "import pprint\n",
    "\n",
    "pp = pprint.PrettyPrinter(indent=4)\n",
    "\n",
    "# make sure ES is running\n",
    "res = requests.get('http://localhost:9200')\n",
    "# pp.pprint(res.content)\n",
    "print(res.content)\n"
   ]
  },
  {
   "cell_type": "code",
   "execution_count": 18,
   "metadata": {
    "collapsed": true
   },
   "outputs": [],
   "source": [
    "# connect to my cluster\n",
    "from elasticsearch import Elasticsearch\n",
    "es = Elasticsearch([{'host': 'localhost', 'port': 9200}])"
   ]
  },
  {
   "cell_type": "code",
   "execution_count": 21,
   "metadata": {
    "collapsed": false
   },
   "outputs": [
    {
     "name": "stdout",
     "output_type": "stream",
     "text": [
      "18\n"
     ]
    }
   ],
   "source": [
    "# using star wars api (swapi), iterate over swapi people documents and index them\n",
    "import json\n",
    "r = requests.get('http://localhost:9200')\n",
    "i = 1\n",
    "while r.status_code == 200:\n",
    "    r = requests.get('http://swapi.co/api/people/' + str(i))\n",
    "    string_body = json.loads(r.content.decode(\"utf-8-sig\"))\n",
    "    es.index(index='sw', doc_type='people', id=i, body=string_body)\n",
    "    i=i+1\n",
    "    \n",
    "print(i)"
   ]
  },
  {
   "cell_type": "code",
   "execution_count": 22,
   "metadata": {
    "collapsed": false
   },
   "outputs": [
    {
     "data": {
      "text/plain": [
       "{'_id': '5',\n",
       " '_index': 'sw',\n",
       " '_source': {'birth_year': '19BBY',\n",
       "  'created': '2014-12-10T15:20:09.791000Z',\n",
       "  'edited': '2014-12-20T21:17:50.315000Z',\n",
       "  'eye_color': 'brown',\n",
       "  'films': ['http://swapi.co/api/films/6/',\n",
       "   'http://swapi.co/api/films/3/',\n",
       "   'http://swapi.co/api/films/2/',\n",
       "   'http://swapi.co/api/films/1/'],\n",
       "  'gender': 'female',\n",
       "  'hair_color': 'brown',\n",
       "  'height': '150',\n",
       "  'homeworld': 'http://swapi.co/api/planets/2/',\n",
       "  'mass': '49',\n",
       "  'name': 'Leia Organa',\n",
       "  'skin_color': 'light',\n",
       "  'species': ['http://swapi.co/api/species/1/'],\n",
       "  'starships': [],\n",
       "  'url': 'http://swapi.co/api/people/5/',\n",
       "  'vehicles': ['http://swapi.co/api/vehicles/30/']},\n",
       " '_type': 'people',\n",
       " '_version': 1,\n",
       " 'found': True}"
      ]
     },
     "execution_count": 22,
     "metadata": {},
     "output_type": "execute_result"
    }
   ],
   "source": [
    "es.get(index='sw', doc_type='people', id=5)"
   ]
  },
  {
   "cell_type": "code",
   "execution_count": 25,
   "metadata": {
    "collapsed": true
   },
   "outputs": [
    {
     "data": {
      "text/plain": [
       "{'_shards': {'failed': 0, 'successful': 5, 'total': 5},\n",
       " 'hits': {'hits': [{'_id': '4',\n",
       "    '_index': 'sw',\n",
       "    '_score': 1.4965448,\n",
       "    '_source': {'birth_year': '41.9BBY',\n",
       "     'created': '2014-12-10T15:18:20.704000Z',\n",
       "     'edited': '2014-12-20T21:17:50.313000Z',\n",
       "     'eye_color': 'yellow',\n",
       "     'films': ['http://swapi.co/api/films/6/',\n",
       "      'http://swapi.co/api/films/3/',\n",
       "      'http://swapi.co/api/films/2/',\n",
       "      'http://swapi.co/api/films/1/'],\n",
       "     'gender': 'male',\n",
       "     'hair_color': 'none',\n",
       "     'height': '202',\n",
       "     'homeworld': 'http://swapi.co/api/planets/1/',\n",
       "     'mass': '136',\n",
       "     'name': 'Darth Vader',\n",
       "     'skin_color': 'white',\n",
       "     'species': ['http://swapi.co/api/species/1/'],\n",
       "     'starships': ['http://swapi.co/api/starships/13/'],\n",
       "     'url': 'http://swapi.co/api/people/4/',\n",
       "     'vehicles': []},\n",
       "    '_type': 'people'}],\n",
       "  'max_score': 1.4965448,\n",
       "  'total': 1},\n",
       " 'timed_out': False,\n",
       " 'took': 4}"
      ]
     },
     "execution_count": 25,
     "metadata": {},
     "output_type": "execute_result"
    }
   ],
   "source": [
    "es.search(index=\"sw\", body={\"query\": {\"match\": {\"name\": \"Darth Vader\"}}})"
   ]
  },
  {
   "cell_type": "code",
   "execution_count": 26,
   "metadata": {
    "collapsed": true
   },
   "outputs": [
    {
     "data": {
      "text/plain": [
       "{'_shards': {'failed': 0, 'successful': 5, 'total': 5},\n",
       " 'hits': {'hits': [{'_id': '1',\n",
       "    '_index': 'sw',\n",
       "    '_score': 1.0,\n",
       "    '_source': {'birth_year': '19BBY',\n",
       "     'created': '2014-12-09T13:50:51.644000Z',\n",
       "     'edited': '2014-12-20T21:17:56.891000Z',\n",
       "     'eye_color': 'blue',\n",
       "     'films': ['http://swapi.co/api/films/7/',\n",
       "      'http://swapi.co/api/films/6/',\n",
       "      'http://swapi.co/api/films/3/',\n",
       "      'http://swapi.co/api/films/2/',\n",
       "      'http://swapi.co/api/films/1/'],\n",
       "     'gender': 'male',\n",
       "     'hair_color': 'blond',\n",
       "     'height': '172',\n",
       "     'homeworld': 'http://swapi.co/api/planets/1/',\n",
       "     'mass': '77',\n",
       "     'name': 'Luke Skywalker',\n",
       "     'skin_color': 'fair',\n",
       "     'species': ['http://swapi.co/api/species/1/'],\n",
       "     'starships': ['http://swapi.co/api/starships/12/',\n",
       "      'http://swapi.co/api/starships/22/'],\n",
       "     'url': 'http://swapi.co/api/people/1/',\n",
       "     'vehicles': ['http://swapi.co/api/vehicles/14/',\n",
       "      'http://swapi.co/api/vehicles/30/']},\n",
       "    '_type': 'people'}],\n",
       "  'max_score': 1.0,\n",
       "  'total': 1},\n",
       " 'timed_out': False,\n",
       " 'took': 12}"
      ]
     },
     "execution_count": 26,
     "metadata": {},
     "output_type": "execute_result"
    }
   ],
   "source": [
    "# more like 'prefix' here: \n",
    "# https://www.elastic.co/guide/en/elasticsearch/reference/current/query-dsl-multi-match-query.html\n",
    "\n",
    "es.search(index='sw', body={'query': {'prefix': {'name': 'lu'}}})"
   ]
  },
  {
   "cell_type": "code",
   "execution_count": 29,
   "metadata": {
    "collapsed": true
   },
   "outputs": [
    {
     "data": {
      "text/plain": [
       "{'_shards': {'failed': 0, 'successful': 5, 'total': 5},\n",
       " 'hits': {'hits': [{'_id': '16',\n",
       "    '_index': 'sw',\n",
       "    '_score': 0.8465736,\n",
       "    '_source': {'birth_year': '600BBY',\n",
       "     'created': '2014-12-10T17:11:31.638000Z',\n",
       "     'edited': '2014-12-20T21:17:50.338000Z',\n",
       "     'eye_color': 'orange',\n",
       "     'films': ['http://swapi.co/api/films/4/',\n",
       "      'http://swapi.co/api/films/3/',\n",
       "      'http://swapi.co/api/films/1/'],\n",
       "     'gender': 'hermaphrodite',\n",
       "     'hair_color': 'n/a',\n",
       "     'height': '175',\n",
       "     'homeworld': 'http://swapi.co/api/planets/24/',\n",
       "     'mass': '1,358',\n",
       "     'name': 'Jabba Desilijic Tiure',\n",
       "     'skin_color': 'green-tan, brown',\n",
       "     'species': ['http://swapi.co/api/species/5/'],\n",
       "     'starships': [],\n",
       "     'url': 'http://swapi.co/api/people/16/',\n",
       "     'vehicles': []},\n",
       "    '_type': 'people'}],\n",
       "  'max_score': 0.8465736,\n",
       "  'total': 1},\n",
       " 'timed_out': False,\n",
       " 'took': 19}"
      ]
     },
     "execution_count": 29,
     "metadata": {},
     "output_type": "execute_result"
    }
   ],
   "source": [
    "es.search(index='sw', body={'query': {'fuzzy_like_this_field': {\n",
    "                'name': {'like_text': 'jaba', 'max_query_terms': 5}\n",
    "            }}})"
   ]
  },
  {
   "cell_type": "code",
   "execution_count": 30,
   "metadata": {
    "collapsed": true
   },
   "outputs": [],
   "source": [
    "# more tutorials here:\n",
    "# http://blog.tryolabs.com/categories/elasticsearch/page/2/"
   ]
  },
  {
   "cell_type": "code",
   "execution_count": 33,
   "metadata": {
    "collapsed": false
   },
   "outputs": [
    {
     "data": {
      "text/plain": [
       "{'_id': '10',\n",
       " '_index': 'articles',\n",
       " '_type': 'article',\n",
       " '_version': 1,\n",
       " 'created': True}"
      ]
     },
     "execution_count": 33,
     "metadata": {},
     "output_type": "execute_result"
    }
   ],
   "source": [
    "# facets:\n",
    "# https://www.elastic.co/guide/en/elasticsearch/reference/0.90/search-facets.html\n",
    "\n",
    "es2 = Elasticsearch()\n",
    "\n",
    "es.index(index='articles', doc_type='article', \n",
    "         id=1, body={\"title\": \"One\", \"tags\": [\"foo\"]})\n",
    "es.index(index='articles', doc_type='article', \n",
    "         id=2, body={\"title\": \"Two\", \"tags\": [\"foo\", \"bar\"]})\n",
    "es.index(index='articles', doc_type='article', \n",
    "         id=3, body={\"title\": \"Three\", \"tags\": [\"foo\", \"bar\", \"baz\"]})\n",
    "es.index(index='articles', doc_type='article',\n",
    "         id=10, body={\"title\": \"Ten\", \"tags\": []})\n",
    "\n"
   ]
  },
  {
   "cell_type": "code",
   "execution_count": 35,
   "metadata": {
    "collapsed": false
   },
   "outputs": [
    {
     "data": {
      "text/plain": [
       "{'_shards': {'failed': 0, 'successful': 5, 'total': 5},\n",
       " 'facets': {'tags': {'_type': 'terms',\n",
       "   'missing': 1,\n",
       "   'other': 0,\n",
       "   'terms': [{'count': 2, 'term': 'foo'},\n",
       "    {'count': 2, 'term': 'bar'},\n",
       "    {'count': 1, 'term': 'baz'}],\n",
       "   'total': 5}},\n",
       " 'hits': {'hits': [{'_id': '2',\n",
       "    '_index': 'articles',\n",
       "    '_score': 1.0,\n",
       "    '_source': {'tags': ['foo', 'bar'], 'title': 'Two'},\n",
       "    '_type': 'article'},\n",
       "   {'_id': '3',\n",
       "    '_index': 'articles',\n",
       "    '_score': 1.0,\n",
       "    '_source': {'tags': ['foo', 'bar', 'baz'], 'title': 'Three'},\n",
       "    '_type': 'article'},\n",
       "   {'_id': '10',\n",
       "    '_index': 'articles',\n",
       "    '_score': 1.0,\n",
       "    '_source': {'tags': [], 'title': 'Ten'},\n",
       "    '_type': 'article'}],\n",
       "  'max_score': 1.0,\n",
       "  'total': 3},\n",
       " 'timed_out': False,\n",
       " 'took': 3}"
      ]
     },
     "execution_count": 35,
     "metadata": {},
     "output_type": "execute_result"
    }
   ],
   "source": [
    "# search with facets:\n",
    "es.search(index=\"articles\", \n",
    "          body={\n",
    "            \"query\": {\"query_string\": {\"query\": \"T*\"}},\n",
    "            \"facets\": {\n",
    "                \"tags\": {\"terms\": {\"field\": \"tags\"}}\n",
    "            } # has 1 'missing' facet bc Ten is a document\n",
    "              # that has no value for the faceted field\n",
    "          }\n",
    "         )"
   ]
  },
  {
   "cell_type": "code",
   "execution_count": 39,
   "metadata": {
    "collapsed": false
   },
   "outputs": [],
   "source": [
    "# using elasticsearch-dsl\n",
    "\n",
    "from elasticsearch import Elasticsearch\n",
    "from elasticsearch_dsl import Search, Q\n",
    "\n",
    "client = Elasticsearch()\n",
    "\n",
    "s = Search(using=client, index=\"sw\") \\\n",
    "    .filter('term', category='search') \\\n",
    "    .query('match', title='T*') \\\n",
    "    .query(~Q('match', description='beta'))\n",
    "    \n",
    "s.aggs.bucket('per_tag', 'terms', field='tags') \\\n",
    "    .metric('max_lines', 'max', field='lines')\n",
    "    \n",
    "response = s.execute()\n",
    "\n",
    "for hit in response:\n",
    "    print(hit.meta.score, hit.title)\n",
    "    \n",
    "for tag in response.aggregations.per_tag.buckets:\n",
    "    print(tag.key, tag.max_lines.value)"
   ]
  },
  {
   "cell_type": "code",
   "execution_count": null,
   "metadata": {
    "collapsed": true
   },
   "outputs": [],
   "source": []
  }
 ],
 "metadata": {
  "kernelspec": {
   "display_name": "Python 3",
   "language": "python",
   "name": "python3"
  },
  "language_info": {
   "codemirror_mode": {
    "name": "ipython",
    "version": 3
   },
   "file_extension": ".py",
   "mimetype": "text/x-python",
   "name": "python",
   "nbconvert_exporter": "python",
   "pygments_lexer": "ipython3",
   "version": "3.4.3"
  }
 },
 "nbformat": 4,
 "nbformat_minor": 0
}
